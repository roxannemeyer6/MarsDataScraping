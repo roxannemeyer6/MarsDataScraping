{
 "cells": [
  {
   "attachments": {},
   "cell_type": "markdown",
   "metadata": {},
   "source": [
    "# Module 12 Challenge\n",
    "## Deliverable 1: Scrape Titles and Preview Text from Mars News"
   ]
  },
  {
   "cell_type": "code",
   "execution_count": null,
   "metadata": {},
   "outputs": [],
   "source": [
    "#please use pip install selenium before executing"
   ]
  },
  {
   "cell_type": "code",
   "execution_count": 11,
   "metadata": {},
   "outputs": [],
   "source": [
    "# Import Splinter and BeautifulSoup\n",
    "from splinter import Browser\n",
    "from bs4 import BeautifulSoup\n",
    "from selenium.webdriver.chrome.service import Service\n",
    "mys = Service(executable_path=\"chromedriver.exe\")\n"
   ]
  },
  {
   "cell_type": "code",
   "execution_count": 12,
   "metadata": {
    "scrolled": true
   },
   "outputs": [],
   "source": [
    "browser = Browser('chrome')"
   ]
  },
  {
   "attachments": {},
   "cell_type": "markdown",
   "metadata": {},
   "source": [
    "### Step 1: Visit the Website\n",
    "\n",
    "1. Use automated browsing to visit the [Mars news site](https://static.bc-edx.com/data/web/mars_news/index.html). Inspect the page to identify which elements to scrape.\n",
    "\n",
    "      > **Hint** To identify which elements to scrape, you might want to inspect the page by using Chrome DevTools."
   ]
  },
  {
   "cell_type": "code",
   "execution_count": 13,
   "metadata": {},
   "outputs": [],
   "source": [
    "# Visit the Mars news site\n",
    "url = 'https://static.bc-edx.com/data/web/mars_news/index.html'\n",
    "browser.visit(url)"
   ]
  },
  {
   "attachments": {},
   "cell_type": "markdown",
   "metadata": {},
   "source": [
    "### Step 2: Scrape the Website\n",
    "\n",
    "Create a Beautiful Soup object and use it to extract text elements from the website."
   ]
  },
  {
   "cell_type": "code",
   "execution_count": 14,
   "metadata": {},
   "outputs": [],
   "source": [
    "# Create a Beautiful Soup object\n",
    "html = browser.html\n",
    "soup = BeautifulSoup(html, 'html.parser')"
   ]
  },
  {
   "attachments": {},
   "cell_type": "markdown",
   "metadata": {},
   "source": [
    "### Step 3: Store the Results\n",
    "\n",
    "Extract the titles and preview text of the news articles that you scraped. Store the scraping results in Python data structures as follows:\n",
    "\n",
    "* Store each title-and-preview pair in a Python dictionary. And, give each dictionary two keys: `title` and `preview`. An example is the following:\n",
    "\n",
    "  ```python\n",
    "  {'title': \"NASA's MAVEN Observes Martian Light Show Caused by Major Solar Storm\", \n",
    "   'preview': \"For the first time in its eight years orbiting Mars, NASA’s MAVEN mission witnessed two different types of ultraviolet aurorae simultaneously, the result of solar storms that began on Aug. 27.\"\n",
    "  }\n",
    "  ```\n",
    "\n",
    "* Store all the dictionaries in a Python list.\n",
    "\n",
    "* Print the list in your notebook."
   ]
  },
  {
   "cell_type": "code",
   "execution_count": 16,
   "metadata": {},
   "outputs": [
    {
     "data": {
      "text/plain": [
       "[{'image': 'https://static.bc-edx.com/data/web/mars_news/images/logo.png',\n",
       "  'title': \"NASA's MAVEN Observes Martian Light Show Caused by Major Solar Storm\",\n",
       "  'preview': 'For the first time in its eight years orbiting Mars, NASA’s MAVEN mission witnessed two different types of ultraviolet aurorae simultaneously, the result of solar storms that began on Aug. 27.',\n",
       "  'date': 'November 9, 2022'},\n",
       " {'image': 'https://static.bc-edx.com/data/web/mars_news/images/9299_maven-vertical-limb-320x240.jpeg',\n",
       "  'title': \"NASA's MAVEN Observes Martian Light Show Caused by Major Solar Storm\",\n",
       "  'preview': 'For the first time in its eight years orbiting Mars, NASA’s MAVEN mission witnessed two different types of ultraviolet aurorae simultaneously, the result of solar storms that began on Aug. 27.',\n",
       "  'date': 'November 9, 2022'},\n",
       " {'image': 'https://static.bc-edx.com/data/web/mars_news/images/9292_PIA25287-320x240.jpeg',\n",
       "  'title': \"NASA Prepares to Say 'Farewell' to InSight Spacecraft\",\n",
       "  'preview': 'A closer look at what goes into wrapping up the mission as the spacecraft’s power supply continues to dwindle.',\n",
       "  'date': 'November 1, 2022'},\n",
       " {'image': 'https://static.bc-edx.com/data/web/mars_news/images/9286_PIA25243-320x240.jpeg',\n",
       "  'title': 'NASA and ESA Agree on Next Steps to Return Mars Samples to Earth',\n",
       "  'preview': 'The agency’s Perseverance rover will establish the first sample depot on Mars.',\n",
       "  'date': 'October 28, 2022'},\n",
       " {'image': 'https://static.bc-edx.com/data/web/mars_news/images/9289_1-PIA25583320x240.jpeg',\n",
       "  'title': \"NASA's InSight Lander Detects Stunning Meteoroid Impact on Mars\",\n",
       "  'preview': 'The agency’s lander felt the ground shake during the impact while cameras aboard the Mars Reconnaissance Orbiter spotted the yawning new crater from space.',\n",
       "  'date': 'October 27, 2022'},\n",
       " {'image': 'https://static.bc-edx.com/data/web/mars_news/images/9284_1-PIA25287-320x240.jpeg',\n",
       "  'title': 'NASA To Host Briefing on InSight, Mars Reconnaissance Orbiter Findings',\n",
       "  'preview': 'Scientists from two Mars missions will discuss how they combined images and data for a major finding on the Red Planet.',\n",
       "  'date': 'October 21, 2022'},\n",
       " {'image': 'https://static.bc-edx.com/data/web/mars_news/images/9283_1-Illustration-of-SHIELD-320x240.jpeg',\n",
       "  'title': 'Why NASA Is Trying To Crash Land on Mars',\n",
       "  'preview': 'Like a car’s crumple zone, the experimental SHIELD lander is designed to absorb a hard impact.',\n",
       "  'date': 'October 20, 2022'},\n",
       " {'image': 'https://static.bc-edx.com/data/web/mars_news/images/9281_1-PIA25413-320x240.jpeg',\n",
       "  'title': 'Curiosity Mars Rover Reaches Long-Awaited Salty Region',\n",
       "  'preview': 'After years of climbing, the Mars rover has arrived at a special region believed to have formed as Mars’ climate was drying.',\n",
       "  'date': 'October 19, 2022'},\n",
       " {'image': 'https://static.bc-edx.com/data/web/mars_news/images/9276_PIA25337-320x240.jpeg',\n",
       "  'title': 'Mars Mission Shields Up for Tests',\n",
       "  'preview': 'Protecting Mars Sample Return spacecraft from micrometeorites requires high-caliber work.',\n",
       "  'date': 'October 12, 2022'},\n",
       " {'image': 'https://static.bc-edx.com/data/web/mars_news/images/9275_PIA25287-clean320x240.jpeg',\n",
       "  'title': \"NASA's InSight Waits Out Dust Storm\",\n",
       "  'preview': 'InSight’s team is taking steps to help the solar-powered lander continue operating for as long as possible.',\n",
       "  'date': 'October 7, 2022'},\n",
       " {'image': 'https://static.bc-edx.com/data/web/mars_news/images/9264_1-PIA25408-320x240.jpeg',\n",
       "  'title': \"NASA's InSight 'Hears' Its First Meteoroid Impacts on Mars\",\n",
       "  'preview': 'The Mars lander’s seismometer has picked up vibrations from four separate impacts in the past two years.',\n",
       "  'date': 'September 19, 2022'},\n",
       " {'image': 'https://static.bc-edx.com/data/web/mars_news/images/9261_26987_PIA24925_MAIN-320x240.jpeg',\n",
       "  'title': \"NASA's Perseverance Rover Investigates Geologically Rich Mars Terrain\",\n",
       "  'preview': 'The latest findings provide greater detail on a region of the Red Planet that has a watery past and is yielding promising samples for the NASA-ESA Mars Sample Return campaign.',\n",
       "  'date': 'September 15, 2022'},\n",
       " {'image': 'https://static.bc-edx.com/data/web/mars_news/images/9257_PIA25325-320x240.jpeg',\n",
       "  'title': 'NASA to Host Briefing on Perseverance Mars Rover Mission Operations',\n",
       "  'preview': 'Members of the mission will discuss the rover’s activities as it gathers samples in an ancient river delta.',\n",
       "  'date': 'September 12, 2022'},\n",
       " {'image': 'https://static.bc-edx.com/data/web/mars_news/images/9252_1-PIA24836_Perseverance_Selfie_at_Rochette-320x240.jpeg',\n",
       "  'title': \"NASA's Perseverance Makes New Discoveries in Mars' Jezero Crater\",\n",
       "  'preview': 'The rover found that Jezero Crater’s floor is made up of volcanic rocks that have interacted with water.',\n",
       "  'date': 'August 25, 2022'},\n",
       " {'image': 'https://static.bc-edx.com/data/web/mars_news/images/9240_1-PIA25407-Curiositys-360-Degree-Panorama-of-Avanaro-320x240.jpeg',\n",
       "  'title': \"10 Years Since Landing, NASA's Curiosity Mars Rover Still Has Drive\",\n",
       "  'preview': 'Despite signs of wear, the intrepid spacecraft is about to start an exciting new chapter of its mission as it climbs a Martian mountain.',\n",
       "  'date': 'August 5, 2022'},\n",
       " {'image': 'https://static.bc-edx.com/data/web/mars_news/images/9239_article_pictures2_jpeg-320x240.jpeg',\n",
       "  'title': \"SAM's Top 5 Discoveries Aboard NASA's Curiosity Rover at Mars\",\n",
       "  'preview': '“Selfie” of the Curiosity rover with inset showing the SAM instrument prior to installation on the rover.',\n",
       "  'date': 'August 4, 2022'}]"
      ]
     },
     "execution_count": 16,
     "metadata": {},
     "output_type": "execute_result"
    }
   ],
   "source": [
    "# Create an empty list to store the dictionaries\n",
    "# Loop through the text elements\n",
    "# Extract the title and preview text from the elements\n",
    "# Store each title and preview pair in a dictionary\n",
    "# Add the dictionary to the list\n",
    "# Print the list to confirm success\n",
    "#CITATION: THIS WAS INCLUDED IN INSTRUCTOR ELI'S DEMO\n",
    "d = soup.select(\"div.col-md-12\")\n",
    "articles = []\n",
    "for article in d:\n",
    "    lt = article.select_one(\"div.list_text\")\n",
    "    if lt is not None:\n",
    "        i = article.find(\"img\")['src']\n",
    "        t = lt.select_one('div.content_title').text\n",
    "        s = lt.select_one('div.article_teaser_body').text\n",
    "        dt = lt.select_one('div.list_date').text\n",
    "        elt = {\n",
    "            \"image\": \"https://static.bc-edx.com/data/web/mars_news/\"+i, \n",
    "            \"title\": t,\n",
    "            \"preview\": s.strip(),\n",
    "            \"date\": dt\n",
    "        }\n",
    "        articles.append(elt)\n",
    "articles"
   ]
  },
  {
   "cell_type": "code",
   "execution_count": 17,
   "metadata": {},
   "outputs": [],
   "source": [
    "browser.quit()"
   ]
  },
  {
   "cell_type": "code",
   "execution_count": null,
   "metadata": {},
   "outputs": [],
   "source": []
  }
 ],
 "metadata": {
  "kernelspec": {
   "display_name": "Python 3 (ipykernel)",
   "language": "python",
   "name": "python3"
  },
  "language_info": {
   "codemirror_mode": {
    "name": "ipython",
    "version": 3
   },
   "file_extension": ".py",
   "mimetype": "text/x-python",
   "name": "python",
   "nbconvert_exporter": "python",
   "pygments_lexer": "ipython3",
   "version": "3.10.9"
  },
  "vscode": {
   "interpreter": {
    "hash": "31f2aee4e71d21fbe5cf8b01ff0e069b9275f58929596ceb00d14d90e3e16cd6"
   }
  }
 },
 "nbformat": 4,
 "nbformat_minor": 4
}
